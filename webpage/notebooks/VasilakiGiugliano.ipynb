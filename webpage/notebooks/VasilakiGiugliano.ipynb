{
 "cells": [
  {
   "cell_type": "markdown",
   "metadata": {},
   "source": [
    "# Emergence of Connectivity Motifs in Networks of Model Neurons with Short- and Long-Term Plastic Synapses\n",
    "\n",
    "Eleni Vasilaki,  Michele Giugliano\n",
    "\n",
    "https://journals.plos.org/plosone/article?id=10.1371/journal.pone.0084626"
   ]
  },
  {
   "cell_type": "code",
   "execution_count": 1,
   "metadata": {},
   "outputs": [
    {
     "name": "stdout",
     "output_type": "stream",
     "text": [
      "ANNarchy 4.7 (4.7.1.5) on darwin (posix).\n"
     ]
    }
   ],
   "source": [
    "from ANNarchy import *\n",
    "clear()\n",
    "setup(dt=0.1)"
   ]
  },
  {
   "cell_type": "code",
   "execution_count": 2,
   "metadata": {},
   "outputs": [],
   "source": [
    "AdEx = Neuron(\n",
    "    parameters=\"\"\"\n",
    "        C = 281. : population\n",
    "        gL = 30. : population # not g_L! g_ is reserved for spike transmission\n",
    "        E_L = -70.6 : population\n",
    "        v_T = -50.4 : population\n",
    "        delta_T = 2.0 : population\n",
    "        a = 4.0 : population\n",
    "        tau_w = 144. : population\n",
    "        b = 0.0805 : population\n",
    "        v_r = -70.6 : population\n",
    "        v_spike = 20.0 : population\n",
    "        tau_syn = 5.0 : population\n",
    "        I = 0.5 \n",
    "    \"\"\",\n",
    "    equations=\"\"\"\n",
    "        C * dv/dt = - gL * (v - E_L) +  gL * delta_T * exp((v-v_T)/delta_T) + g_exc + I + g_in - w : init=-70.0     \n",
    "        tau_w * dw/dt = a * (v - E_L) - w  : init=0.0\n",
    "        \n",
    "        tau_syn * dg_exc/dt = -g_exc\n",
    "    \"\"\",\n",
    "    spike=\"\"\"\n",
    "        v >= v_spike\n",
    "    \"\"\",\n",
    "    reset=\"\"\"\n",
    "        v = v_r\n",
    "        w += b\n",
    "    \"\"\",\n",
    "    refractory = 2.0\n",
    ")"
   ]
  },
  {
   "cell_type": "code",
   "execution_count": 3,
   "metadata": {},
   "outputs": [],
   "source": [
    "pop = Population(10, AdEx)"
   ]
  },
  {
   "cell_type": "code",
   "execution_count": 4,
   "metadata": {},
   "outputs": [],
   "source": [
    "inputs = np.array(\n",
    "    [\n",
    "        [1, 0, 0, 0, 0, 0, 0, 0, 0, 0],\n",
    "        [0, 1, 0, 0, 0, 0, 0, 0, 0, 0],\n",
    "        [0, 0, 1, 0, 0, 0, 0, 0, 0, 0],\n",
    "        [0, 0, 0, 1, 0, 0, 0, 0, 0, 0],\n",
    "        [0, 0, 0, 0, 1, 0, 0, 0, 0, 0],\n",
    "        [0, 0, 0, 0, 0, 1, 0, 0, 0, 0],\n",
    "        [0, 0, 0, 0, 0, 0, 1, 0, 0, 0],\n",
    "        [0, 0, 0, 0, 0, 0, 0, 1, 0, 0],\n",
    "        [0, 0, 0, 0, 0, 0, 0, 0, 1, 0],\n",
    "        [0, 0, 0, 0, 0, 0, 0, 0, 0, 1]\n",
    "    ]\n",
    ")\n",
    "\n",
    "inp = TimedArray(rates=inputs, schedule=5.0, period=50.0)"
   ]
  },
  {
   "cell_type": "code",
   "execution_count": 6,
   "metadata": {},
   "outputs": [
    {
     "data": {
      "text/plain": [
       "<ANNarchy.core.SpecificProjection.CurrentInjection at 0x116feb850>"
      ]
     },
     "execution_count": 6,
     "metadata": {},
     "output_type": "execute_result"
    }
   ],
   "source": [
    "proj_in = CurrentInjection(inp, pop, 'in')\n",
    "proj_in.connect_current()"
   ]
  },
  {
   "cell_type": "code",
   "execution_count": 7,
   "metadata": {},
   "outputs": [
    {
     "name": "stdout",
     "output_type": "stream",
     "text": [
      "Compiling ...  OK \n"
     ]
    }
   ],
   "source": [
    "compile()"
   ]
  },
  {
   "cell_type": "code",
   "execution_count": null,
   "metadata": {},
   "outputs": [],
   "source": []
  }
 ],
 "metadata": {
  "kernelspec": {
   "display_name": "Python 3.9.13 ('base')",
   "language": "python",
   "name": "python3"
  },
  "language_info": {
   "codemirror_mode": {
    "name": "ipython",
    "version": 3
   },
   "file_extension": ".py",
   "mimetype": "text/x-python",
   "name": "python",
   "nbconvert_exporter": "python",
   "pygments_lexer": "ipython3",
   "version": "3.9.13"
  },
  "vscode": {
   "interpreter": {
    "hash": "3d24234067c217f49dc985cbc60012ce72928059d528f330ba9cb23ce737906d"
   }
  }
 },
 "nbformat": 4,
 "nbformat_minor": 2
}
